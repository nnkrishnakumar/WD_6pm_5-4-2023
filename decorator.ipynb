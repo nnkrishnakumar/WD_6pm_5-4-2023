{
 "cells": [
  {
   "cell_type": "code",
   "execution_count": 3,
   "metadata": {},
   "outputs": [],
   "source": [
    "def intro():\n",
    "    print(\"I am AI Trainer\")"
   ]
  },
  {
   "cell_type": "code",
   "execution_count": 2,
   "metadata": {},
   "outputs": [
    {
     "name": "stdout",
     "output_type": "stream",
     "text": [
      "I am krishna\n",
      "I am AI trainer\n"
     ]
    }
   ],
   "source": [
    "print(\"I am krishna\")\n",
    "print(\"I am AI trainer\")"
   ]
  },
  {
   "cell_type": "code",
   "execution_count": 4,
   "metadata": {},
   "outputs": [
    {
     "name": "stdout",
     "output_type": "stream",
     "text": [
      "I am krishna\n",
      "I am AI Trainer\n"
     ]
    }
   ],
   "source": [
    "print(\"I am krishna\")\n",
    "intro()"
   ]
  },
  {
   "cell_type": "code",
   "execution_count": 7,
   "metadata": {},
   "outputs": [
    {
     "name": "stdout",
     "output_type": "stream",
     "text": [
      "I am krishna\n",
      "I am AI Trainer\n"
     ]
    }
   ],
   "source": [
    "def intro():\n",
    "    print(\"I am AI Trainer\")\n",
    "    \n",
    "def super(arg):\n",
    "    def inner():\n",
    "        print(\"I am krishna\")\n",
    "        arg()\n",
    "    return inner\n",
    "val=super(intro)\n",
    "val()"
   ]
  },
  {
   "cell_type": "code",
   "execution_count": 18,
   "metadata": {},
   "outputs": [],
   "source": [
    "def krishna(arg):\n",
    "    def inner():\n",
    "        print(\"I am krishna\")\n",
    "        arg()\n",
    "    return inner\n",
    "@krishna\n",
    "def intro():\n",
    "    print(\"I am AI Trainer\")"
   ]
  },
  {
   "cell_type": "code",
   "execution_count": 17,
   "metadata": {},
   "outputs": [
    {
     "name": "stdout",
     "output_type": "stream",
     "text": [
      "I am krishna\n",
      "I am AI Trainer\n"
     ]
    }
   ],
   "source": [
    "intro()"
   ]
  },
  {
   "cell_type": "code",
   "execution_count": 23,
   "metadata": {},
   "outputs": [],
   "source": [
    "def krishna():\n",
    "    print(\"this is krishna\")"
   ]
  },
  {
   "cell_type": "code",
   "execution_count": 24,
   "metadata": {},
   "outputs": [
    {
     "name": "stdout",
     "output_type": "stream",
     "text": [
      "this is krishna\n"
     ]
    }
   ],
   "source": [
    "krishna()"
   ]
  },
  {
   "cell_type": "code",
   "execution_count": null,
   "metadata": {},
   "outputs": [],
   "source": [
    "I am 27 years old\n",
    "this is krishna\n",
    "I am in MCA final year"
   ]
  },
  {
   "cell_type": "code",
   "execution_count": 26,
   "metadata": {},
   "outputs": [
    {
     "name": "stdout",
     "output_type": "stream",
     "text": [
      "I am 27 years old\n",
      "this is krishna\n",
      "I am in MCA final year\n"
     ]
    }
   ],
   "source": [
    "def krishna():\n",
    "    print(\"this is krishna\")\n",
    "    \n",
    "def sourabh(a):\n",
    "    def inner():\n",
    "        print(\"I am 27 years old\")\n",
    "        a()\n",
    "        print(\"I am in MCA final year\")\n",
    "        \n",
    "    return inner\n",
    "val=sourabh(krishna)\n",
    "val()"
   ]
  },
  {
   "cell_type": "code",
   "execution_count": 14,
   "metadata": {},
   "outputs": [],
   "source": []
  },
  {
   "cell_type": "code",
   "execution_count": 2,
   "metadata": {},
   "outputs": [
    {
     "name": "stdout",
     "output_type": "stream",
     "text": [
      "-2\n"
     ]
    }
   ],
   "source": [
    "sub(2,4)"
   ]
  },
  {
   "cell_type": "code",
   "execution_count": 3,
   "metadata": {},
   "outputs": [
    {
     "name": "stdout",
     "output_type": "stream",
     "text": [
      "3\n"
     ]
    }
   ],
   "source": [
    "sub(5,2)"
   ]
  },
  {
   "cell_type": "code",
   "execution_count": 26,
   "metadata": {},
   "outputs": [
    {
     "name": "stdout",
     "output_type": "stream",
     "text": [
      "10\n"
     ]
    }
   ],
   "source": [
    "def sub(a,b):\n",
    "    print(a-b)\n",
    "\n",
    "def super(anirudh):\n",
    "    def inner(a=int(input(\"Enter 1st number :\")),b=int(input(\"Ente 2nd number :\"))):\n",
    "        if a<b:\n",
    "            a,b=b,a\n",
    "            anirudh(a,b)\n",
    "    return inner\n",
    "\n",
    "val=super(sub)\n",
    "val()\n"
   ]
  },
  {
   "cell_type": "code",
   "execution_count": null,
   "metadata": {},
   "outputs": [],
   "source": [
    "1"
   ]
  }
 ],
 "metadata": {
  "kernelspec": {
   "display_name": "Python 3",
   "language": "python",
   "name": "python3"
  },
  "language_info": {
   "codemirror_mode": {
    "name": "ipython",
    "version": 3
   },
   "file_extension": ".py",
   "mimetype": "text/x-python",
   "name": "python",
   "nbconvert_exporter": "python",
   "pygments_lexer": "ipython3",
   "version": "3.11.3"
  },
  "orig_nbformat": 4
 },
 "nbformat": 4,
 "nbformat_minor": 2
}
