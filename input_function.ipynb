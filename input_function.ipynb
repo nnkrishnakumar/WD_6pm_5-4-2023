{
 "cells": [
  {
   "cell_type": "code",
   "execution_count": 5,
   "metadata": {},
   "outputs": [
    {
     "data": {
      "text/plain": [
       "'krishna'"
      ]
     },
     "execution_count": 5,
     "metadata": {},
     "output_type": "execute_result"
    }
   ],
   "source": [
    "input()   # it help us to get input from the user, it always accept values in the form of \"string\""
   ]
  },
  {
   "cell_type": "code",
   "execution_count": 7,
   "metadata": {},
   "outputs": [],
   "source": [
    "a=input()"
   ]
  },
  {
   "cell_type": "code",
   "execution_count": 8,
   "metadata": {},
   "outputs": [
    {
     "name": "stdout",
     "output_type": "stream",
     "text": [
      "krishna\n"
     ]
    }
   ],
   "source": [
    "print(a)"
   ]
  },
  {
   "cell_type": "code",
   "execution_count": 10,
   "metadata": {},
   "outputs": [],
   "source": [
    "a=input(\"kindly enter your name :\")"
   ]
  },
  {
   "cell_type": "code",
   "execution_count": 11,
   "metadata": {},
   "outputs": [
    {
     "name": "stdout",
     "output_type": "stream",
     "text": [
      "krishna\n"
     ]
    }
   ],
   "source": [
    "print(a)"
   ]
  },
  {
   "cell_type": "code",
   "execution_count": 12,
   "metadata": {},
   "outputs": [],
   "source": [
    "b=input(\"Kindly enter your last name :\")"
   ]
  },
  {
   "cell_type": "code",
   "execution_count": 13,
   "metadata": {},
   "outputs": [
    {
     "name": "stdout",
     "output_type": "stream",
     "text": [
      "kumar\n"
     ]
    }
   ],
   "source": [
    "print(b)"
   ]
  },
  {
   "cell_type": "code",
   "execution_count": 17,
   "metadata": {},
   "outputs": [],
   "source": [
    "a=int(input(\"Kindly enter your 1st number :\"))"
   ]
  },
  {
   "cell_type": "code",
   "execution_count": 18,
   "metadata": {},
   "outputs": [
    {
     "name": "stdout",
     "output_type": "stream",
     "text": [
      "10 <class 'int'>\n"
     ]
    }
   ],
   "source": [
    "print(a,type(a))"
   ]
  },
  {
   "cell_type": "code",
   "execution_count": 19,
   "metadata": {},
   "outputs": [],
   "source": [
    "b=int(input(\"Kindly enter your 2nd number : \"))"
   ]
  },
  {
   "cell_type": "code",
   "execution_count": 21,
   "metadata": {},
   "outputs": [
    {
     "name": "stdout",
     "output_type": "stream",
     "text": [
      "20 <class 'int'>\n"
     ]
    }
   ],
   "source": [
    "print(b,type(b))"
   ]
  },
  {
   "cell_type": "code",
   "execution_count": 22,
   "metadata": {},
   "outputs": [
    {
     "data": {
      "text/plain": [
       "30"
      ]
     },
     "execution_count": 22,
     "metadata": {},
     "output_type": "execute_result"
    }
   ],
   "source": [
    "a+b"
   ]
  },
  {
   "cell_type": "code",
   "execution_count": 23,
   "metadata": {},
   "outputs": [
    {
     "data": {
      "text/plain": [
       "0.5"
      ]
     },
     "execution_count": 23,
     "metadata": {},
     "output_type": "execute_result"
    }
   ],
   "source": [
    "a/b"
   ]
  },
  {
   "cell_type": "code",
   "execution_count": 25,
   "metadata": {},
   "outputs": [
    {
     "name": "stdout",
     "output_type": "stream",
     "text": [
      "30\n",
      "-10\n"
     ]
    }
   ],
   "source": [
    "a=int(input(\"Kindly enter your 1st number :\"))\n",
    "b=int(input(\"Kindly enter your last name :\"))\n",
    "print(a+b)\n",
    "print(a-b)"
   ]
  },
  {
   "cell_type": "code",
   "execution_count": 26,
   "metadata": {},
   "outputs": [],
   "source": [
    "# if else:  conditional programming "
   ]
  },
  {
   "cell_type": "code",
   "execution_count": 35,
   "metadata": {},
   "outputs": [
    {
     "name": "stdout",
     "output_type": "stream",
     "text": [
      "dasdfsad\n",
      "going to right\n"
     ]
    }
   ],
   "source": [
    "a=input(\"enter your direction either left or right :\")\n",
    "print(a)\n",
    "if a==\"left\":\n",
    "    print(\"going to left\")\n",
    "else:\n",
    "    print(\"going to right\")"
   ]
  },
  {
   "cell_type": "code",
   "execution_count": 32,
   "metadata": {},
   "outputs": [
    {
     "data": {
      "text/plain": [
       "True"
      ]
     },
     "execution_count": 32,
     "metadata": {},
     "output_type": "execute_result"
    }
   ],
   "source": [
    "\"left\"==\"left\""
   ]
  },
  {
   "cell_type": "code",
   "execution_count": 51,
   "metadata": {},
   "outputs": [
    {
     "name": "stdout",
     "output_type": "stream",
     "text": [
      "hello world\n",
      "this is python\n"
     ]
    }
   ],
   "source": [
    "if 2<3:\n",
    " print(\"hello world\")\n",
    " print(\"this is python\")\n",
    "else:\n",
    "    print(\"this is else block \")\n",
    "    print(\"this is krishna\")\n",
    "\n"
   ]
  },
  {
   "cell_type": "code",
   "execution_count": 42,
   "metadata": {},
   "outputs": [
    {
     "name": "stdout",
     "output_type": "stream",
     "text": [
      "this is else block \n",
      "this is krishna\n"
     ]
    }
   ],
   "source": [
    "if 2>3:\n",
    " print(\"hello world\")\n",
    " print(\"this is python\")\n",
    "else:\n",
    "    print(\"this is else block \")\n",
    "    print(\"this is krishna\")\n"
   ]
  },
  {
   "cell_type": "code",
   "execution_count": 52,
   "metadata": {},
   "outputs": [],
   "source": [
    "if 2>3:\n",
    " print(\"hello world\")\n",
    " print(\"this is python\")\n",
    "\n"
   ]
  },
  {
   "cell_type": "code",
   "execution_count": 53,
   "metadata": {},
   "outputs": [
    {
     "name": "stdout",
     "output_type": "stream",
     "text": [
      "hello world\n",
      "this is python\n"
     ]
    }
   ],
   "source": [
    "if 2<3:\n",
    " print(\"hello world\")\n",
    " print(\"this is python\")"
   ]
  },
  {
   "cell_type": "code",
   "execution_count": 60,
   "metadata": {},
   "outputs": [
    {
     "name": "stdout",
     "output_type": "stream",
     "text": [
      "10\n",
      "20\n",
      "jhgdhfdhgfd\n",
      "-10\n"
     ]
    }
   ],
   "source": [
    "a=int(input(\"Kindly enter your 1st number :\"))\n",
    "b=int(input(\"Kindly enter your last number :\"))\n",
    "operation=input(\"Enter your operation + symbol for summation and - symbol for subtraction :\")\n",
    "print(a)\n",
    "print(b)\n",
    "print(operation)\n",
    "if operation==\"+\":\n",
    "    print(a+b)\n",
    "else:\n",
    "    print(a-b)"
   ]
  },
  {
   "cell_type": "code",
   "execution_count": 62,
   "metadata": {},
   "outputs": [
    {
     "name": "stdout",
     "output_type": "stream",
     "text": [
      "10\n",
      "20\n",
      "+\n",
      "30\n"
     ]
    }
   ],
   "source": [
    "a=int(input(\"Kindly enter your 1st number :\"))\n",
    "b=int(input(\"Kindly enter your last number :\"))\n",
    "operation=input(\"Enter your operation + symbol for summation and - symbol for subtraction :\")\n",
    "print(a)\n",
    "print(b)\n",
    "print(operation)\n",
    "if operation==\"+\":\n",
    "    print(a+b)\n",
    "elif operation==\"-\":\n",
    "    print(a-b)\n",
    "    "
   ]
  },
  {
   "cell_type": "code",
   "execution_count": 63,
   "metadata": {},
   "outputs": [
    {
     "name": "stdout",
     "output_type": "stream",
     "text": [
      "10\n",
      "20\n",
      "-\n",
      "-10\n"
     ]
    }
   ],
   "source": [
    "a=int(input(\"Kindly enter your 1st number :\"))\n",
    "b=int(input(\"Kindly enter your last number :\"))\n",
    "operation=input(\"Enter your operation + symbol for summation and - symbol for subtraction :\")\n",
    "print(a)\n",
    "print(b)\n",
    "print(operation)\n",
    "if operation==\"+\":\n",
    "    print(a+b)\n",
    "elif operation==\"-\":\n",
    "    print(a-b)"
   ]
  },
  {
   "cell_type": "code",
   "execution_count": 64,
   "metadata": {},
   "outputs": [
    {
     "name": "stdout",
     "output_type": "stream",
     "text": [
      "10\n",
      "20\n",
      "jhfjhfghf\n"
     ]
    }
   ],
   "source": [
    "a=int(input(\"Kindly enter your 1st number :\"))\n",
    "b=int(input(\"Kindly enter your last number :\"))\n",
    "operation=input(\"Enter your operation + symbol for summation and - symbol for subtraction :\")\n",
    "print(a)\n",
    "print(b)\n",
    "print(operation)\n",
    "if operation==\"+\":\n",
    "    print(a+b)\n",
    "elif operation==\"-\":\n",
    "    print(a-b)"
   ]
  },
  {
   "cell_type": "code",
   "execution_count": 66,
   "metadata": {},
   "outputs": [
    {
     "name": "stdout",
     "output_type": "stream",
     "text": [
      "Operation is not define\n"
     ]
    }
   ],
   "source": [
    "a=int(input(\"Kindly enter your 1st number :\"))\n",
    "b=int(input(\"Kindly enter your last number :\"))\n",
    "operation=input(\"Enter your operation + symbol for summation and - symbol for subtraction :\")\n",
    "if operation==\"+\":\n",
    "    print(a+b)\n",
    "elif operation==\"-\":\n",
    "    print(a-b)\n",
    "else:\n",
    "    print(\"Operation is not define\")"
   ]
  },
  {
   "cell_type": "code",
   "execution_count": 1,
   "metadata": {},
   "outputs": [],
   "source": [
    "# nested if else \n",
    "# nested if elif else"
   ]
  },
  {
   "cell_type": "code",
   "execution_count": 4,
   "metadata": {},
   "outputs": [
    {
     "name": "stdout",
     "output_type": "stream",
     "text": [
      "a is smaller\n",
      "b is smaller\n"
     ]
    }
   ],
   "source": [
    "# nested if else \n",
    "\n",
    "a=int(input(\"Kindly enter your 1st number :\"))  #10\n",
    "b=int(input(\"Kindly enter your 2nd number :\"))  #20\n",
    "c=int(input(\"Kindly enter your 3rd number :\"))  #30\n",
    "if a<b:#10<20\n",
    "    print(\"a is smaller\")\n",
    "    if b<c: #20<30\n",
    "        print(\"b is smaller\")\n",
    "else:\n",
    "    print(\"b is greater\")"
   ]
  },
  {
   "cell_type": "code",
   "execution_count": 5,
   "metadata": {},
   "outputs": [
    {
     "name": "stdout",
     "output_type": "stream",
     "text": [
      "a is smaller\n"
     ]
    }
   ],
   "source": [
    "# nested if else \n",
    "\n",
    "a=int(input(\"Kindly enter your 1st number :\"))  #10\n",
    "b=int(input(\"Kindly enter your 2nd number :\"))  #20\n",
    "c=int(input(\"Kindly enter your 3rd number :\"))  #15\n",
    "if a<b:#10<20\n",
    "    print(\"a is smaller\")\n",
    "    if b<c: #20<15\n",
    "        print(\"b is smaller\")\n",
    "else:\n",
    "    print(\"b is greater\")"
   ]
  },
  {
   "cell_type": "code",
   "execution_count": 6,
   "metadata": {},
   "outputs": [
    {
     "name": "stdout",
     "output_type": "stream",
     "text": [
      "a is smaller\n",
      "b is greater then c\n"
     ]
    }
   ],
   "source": [
    "# nested if else \n",
    "\n",
    "a=int(input(\"Kindly enter your 1st number :\"))  #10\n",
    "b=int(input(\"Kindly enter your 2nd number :\"))  #20\n",
    "c=int(input(\"Kindly enter your 3rd number :\"))  #15\n",
    "if a<b:#10<20\n",
    "    print(\"a is smaller\")\n",
    "    if b<c: #20<15\n",
    "        print(\"b is smaller\")\n",
    "    else:\n",
    "        print(\"b is greater then c\")\n",
    "else:\n",
    "    print(\"b is greater\")"
   ]
  },
  {
   "cell_type": "code",
   "execution_count": 9,
   "metadata": {},
   "outputs": [
    {
     "name": "stdout",
     "output_type": "stream",
     "text": [
      "a is smaller\n"
     ]
    }
   ],
   "source": [
    "# nested if else \n",
    "\n",
    "a=int(input(\"Kindly enter your 1st number :\"))  #20\n",
    "b=int(input(\"Kindly enter your 2nd number :\"))  #10\n",
    "c=int(input(\"Kindly enter your 3rd number :\"))  #25\n",
    "if a<b:#20<10\n",
    "    print(\"a is smaller\")\n",
    "    if b<c: #20<15\n",
    "        print(\"b is smaller\")\n",
    "    else:\n",
    "        print(\"b is greater then c\")\n",
    "else:\n",
    "    if a>c: #20>25\n",
    "        print(\"a is bigger\")\n",
    "    else:\n",
    "        print(\"a is smaller\")"
   ]
  },
  {
   "cell_type": "code",
   "execution_count": 11,
   "metadata": {},
   "outputs": [
    {
     "name": "stdout",
     "output_type": "stream",
     "text": [
      "10\n"
     ]
    }
   ],
   "source": [
    "a=int(input(\"Kindly enter your 1st number :\"))  #10\n",
    "b=int(input(\"Kindly enter your last number :\")) #20\n",
    "operation=input(\"Enter your operation + symbol for summation and - symbol for subtraction :\")\n",
    "if operation==\"+\":\n",
    "    print(a+b)\n",
    "elif operation==\"-\":\n",
    "    if a<b:\n",
    "        a,b=b,a\n",
    "        print(a-b)\n",
    "else:\n",
    "    print(\"Operation is not define\")"
   ]
  },
  {
   "cell_type": "code",
   "execution_count": 13,
   "metadata": {},
   "outputs": [
    {
     "name": "stdout",
     "output_type": "stream",
     "text": [
      "10\n"
     ]
    }
   ],
   "source": [
    "a=int(input(\"Kindly enter your 1st number :\"))  #10\n",
    "b=int(input(\"Kindly enter your last number :\")) #20\n",
    "operation=input(\"Enter your operation + symbol for summation and - symbol for subtraction :\") # -\n",
    "if operation==\"+\":\n",
    "    print(a+b)\n",
    "elif operation==\"-\":\n",
    "    if a<b: #10<20  T\n",
    "        a,b=b,a\n",
    "        print(a-b)\n",
    "    else:\n",
    "        print(a-b)\n",
    "else:\n",
    "    print(\"Operation is not define\")"
   ]
  },
  {
   "cell_type": "code",
   "execution_count": 14,
   "metadata": {},
   "outputs": [
    {
     "name": "stdout",
     "output_type": "stream",
     "text": [
      "10\n"
     ]
    }
   ],
   "source": [
    "a=int(input(\"Kindly enter your 1st number :\"))  #20\n",
    "b=int(input(\"Kindly enter your last number :\")) #10\n",
    "operation=input(\"Enter your operation + symbol for summation and - symbol for subtraction :\") # -\n",
    "if operation==\"+\":\n",
    "    print(a+b)\n",
    "elif operation==\"-\":\n",
    "    if a<b: #20<10  False\n",
    "        a,b=b,a\n",
    "        print(a-b)\n",
    "    else:\n",
    "        print(a-b)\n",
    "else:\n",
    "    print(\"Operation is not define\")"
   ]
  },
  {
   "cell_type": "code",
   "execution_count": 17,
   "metadata": {},
   "outputs": [
    {
     "name": "stdout",
     "output_type": "stream",
     "text": [
      "a and b are equal\n"
     ]
    }
   ],
   "source": [
    "a=int(input(\"Kindly enter your 1st number :\"))  #20\n",
    "b=int(input(\"Kindly enter your last number :\")) #20\n",
    "operation=input(\"Enter your operation + symbol for summation and - symbol for subtraction :\") # -\n",
    "if operation==\"+\":\n",
    "    print(a+b)\n",
    "elif operation==\"-\":\n",
    "    if a<b: #20<10  False\n",
    "        a,b=b,a\n",
    "        print(a-b)\n",
    "    elif a>b:\n",
    "        print(a-b)\n",
    "    else:\n",
    "        print(\"a and b are equal\")\n",
    "else:\n",
    "    print(\"Operation is not define\")"
   ]
  },
  {
   "cell_type": "code",
   "execution_count": null,
   "metadata": {},
   "outputs": [],
   "source": []
  }
 ],
 "metadata": {
  "kernelspec": {
   "display_name": "Python 3",
   "language": "python",
   "name": "python3"
  },
  "language_info": {
   "codemirror_mode": {
    "name": "ipython",
    "version": 3
   },
   "file_extension": ".py",
   "mimetype": "text/x-python",
   "name": "python",
   "nbconvert_exporter": "python",
   "pygments_lexer": "ipython3",
   "version": "3.11.3"
  },
  "orig_nbformat": 4
 },
 "nbformat": 4,
 "nbformat_minor": 2
}
