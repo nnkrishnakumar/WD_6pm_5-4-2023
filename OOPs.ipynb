{
 "cells": [
  {
   "cell_type": "code",
   "execution_count": 1,
   "metadata": {},
   "outputs": [
    {
     "name": "stdout",
     "output_type": "stream",
     "text": [
      "30\n"
     ]
    }
   ],
   "source": [
    "#top line programming\n",
    "a=10\n",
    "b=20\n",
    "print(a+b)"
   ]
  },
  {
   "cell_type": "code",
   "execution_count": 2,
   "metadata": {},
   "outputs": [],
   "source": [
    "#procedural or functional programming\n",
    "def add():\n",
    "    a=10\n",
    "    b=20\n",
    "    print(a+b)"
   ]
  },
  {
   "cell_type": "code",
   "execution_count": 3,
   "metadata": {},
   "outputs": [
    {
     "name": "stdout",
     "output_type": "stream",
     "text": [
      "30\n"
     ]
    }
   ],
   "source": [
    "add()"
   ]
  },
  {
   "cell_type": "code",
   "execution_count": 7,
   "metadata": {},
   "outputs": [],
   "source": [
    "#Object Oriented Programming structure\n",
    "class Addition:\n",
    "    def add(self):\n",
    "        a=10\n",
    "        b=20\n",
    "        print(a+b)"
   ]
  },
  {
   "cell_type": "code",
   "execution_count": 8,
   "metadata": {},
   "outputs": [],
   "source": [
    "a=Addition()"
   ]
  },
  {
   "cell_type": "code",
   "execution_count": 9,
   "metadata": {},
   "outputs": [
    {
     "name": "stdout",
     "output_type": "stream",
     "text": [
      "30\n"
     ]
    }
   ],
   "source": [
    "a.add()"
   ]
  },
  {
   "cell_type": "code",
   "execution_count": 11,
   "metadata": {},
   "outputs": [],
   "source": [
    "# OOPS:\n",
    "# ----\n",
    "# > Class(Blueprint)\n",
    "#     instance variable\n",
    "#     class variable\n",
    "#     class method\n",
    "#     instance method\n",
    "#     static methods\n",
    "# > Object\n",
    "# > encapsulation\n",
    "# > Abstraction\n",
    "# > Polymorphism\n",
    "# > Inheritance"
   ]
  },
  {
   "cell_type": "code",
   "execution_count": 14,
   "metadata": {},
   "outputs": [],
   "source": [
    "a=10  # variable/ Identifier/Object"
   ]
  },
  {
   "cell_type": "code",
   "execution_count": 15,
   "metadata": {},
   "outputs": [
    {
     "name": "stdout",
     "output_type": "stream",
     "text": [
      "<class 'int'>\n"
     ]
    }
   ],
   "source": [
    "print(type(a))"
   ]
  },
  {
   "cell_type": "code",
   "execution_count": 33,
   "metadata": {},
   "outputs": [],
   "source": [
    "class Mobile:\n",
    "    def __init__(self):   # magic method/dunder methods --> 40-50\n",
    "    # Attributes/instance variable\n",
    "        self.color=\"Black\"\n",
    "        self.ram=8\n",
    "        self.rom=128\n",
    "        print(id(self))\n",
    "            \n",
    "    #Feature/methods\n",
    "    def calling(self):\n",
    "        print(\"Welcome to calling section\")\n",
    "    \n",
    "    def texting(self):\n",
    "        print(\"Welcome to texting section\")\n",
    "    \n",
    "    def browsing(self):\n",
    "        print(\"Welcome to browsing section\")\n"
   ]
  },
  {
   "cell_type": "code",
   "execution_count": 34,
   "metadata": {},
   "outputs": [
    {
     "name": "stdout",
     "output_type": "stream",
     "text": [
      "2183849604112\n",
      "APPle : 2183849604112\n"
     ]
    }
   ],
   "source": [
    "Apple14=Mobile()\n",
    "print(\"APPle :\",id(Apple14))"
   ]
  },
  {
   "cell_type": "code",
   "execution_count": 41,
   "metadata": {},
   "outputs": [
    {
     "name": "stdout",
     "output_type": "stream",
     "text": [
      "Welcome to browsing section\n",
      "Welcome to calling section\n",
      "Welcome to browsing section\n",
      "Welcome to calling section\n"
     ]
    }
   ],
   "source": [
    "Mobile.browsing(Apple14)\n",
    "Mobile.calling(Apple14)\n",
    "Apple14.browsing()\n",
    "Apple14.calling()"
   ]
  },
  {
   "cell_type": "code",
   "execution_count": 1,
   "metadata": {},
   "outputs": [],
   "source": [
    "# encapsulation --> data hiding "
   ]
  },
  {
   "cell_type": "code",
   "execution_count": 30,
   "metadata": {},
   "outputs": [],
   "source": [
    "class ATM:\n",
    "    def __init__(self):\n",
    "        self.balance=1000\n",
    "        self.pin=str(\"0000\")\n",
    "    def balance_enquiry(self):\n",
    "        print(\"Welcome to balance enquiry section\")\n",
    "    def withdrawal(self):\n",
    "        print(\"Welcome to withdrawal section\")"
   ]
  },
  {
   "cell_type": "code",
   "execution_count": 31,
   "metadata": {},
   "outputs": [],
   "source": [
    "krishna=ATM()"
   ]
  },
  {
   "cell_type": "code",
   "execution_count": 32,
   "metadata": {},
   "outputs": [
    {
     "data": {
      "text/plain": [
       "1000"
      ]
     },
     "execution_count": 32,
     "metadata": {},
     "output_type": "execute_result"
    }
   ],
   "source": [
    "krishna.balance"
   ]
  },
  {
   "cell_type": "code",
   "execution_count": 33,
   "metadata": {},
   "outputs": [
    {
     "data": {
      "text/plain": [
       "'0000'"
      ]
     },
     "execution_count": 33,
     "metadata": {},
     "output_type": "execute_result"
    }
   ],
   "source": [
    "krishna.pin"
   ]
  },
  {
   "cell_type": "code",
   "execution_count": 34,
   "metadata": {},
   "outputs": [
    {
     "name": "stdout",
     "output_type": "stream",
     "text": [
      "Welcome to balance enquiry section\n"
     ]
    }
   ],
   "source": [
    "krishna.balance_enquiry()"
   ]
  },
  {
   "cell_type": "code",
   "execution_count": 35,
   "metadata": {},
   "outputs": [
    {
     "name": "stdout",
     "output_type": "stream",
     "text": [
      "Welcome to withdrawal section\n"
     ]
    }
   ],
   "source": [
    "krishna.withdrawal()"
   ]
  },
  {
   "cell_type": "code",
   "execution_count": 39,
   "metadata": {},
   "outputs": [],
   "source": [
    "krishna.pin=\"0101\""
   ]
  },
  {
   "cell_type": "code",
   "execution_count": 40,
   "metadata": {},
   "outputs": [
    {
     "data": {
      "text/plain": [
       "'0101'"
      ]
     },
     "execution_count": 40,
     "metadata": {},
     "output_type": "execute_result"
    }
   ],
   "source": [
    "krishna.pin"
   ]
  },
  {
   "cell_type": "code",
   "execution_count": 41,
   "metadata": {},
   "outputs": [],
   "source": [
    "Mohit=ATM()"
   ]
  },
  {
   "cell_type": "code",
   "execution_count": 42,
   "metadata": {},
   "outputs": [
    {
     "data": {
      "text/plain": [
       "'0000'"
      ]
     },
     "execution_count": 42,
     "metadata": {},
     "output_type": "execute_result"
    }
   ],
   "source": [
    "Mohit.pin"
   ]
  },
  {
   "cell_type": "code",
   "execution_count": 43,
   "metadata": {},
   "outputs": [
    {
     "name": "stdout",
     "output_type": "stream",
     "text": [
      "Welcome to balance enquiry section\n"
     ]
    }
   ],
   "source": [
    "Mohit.balance_enquiry()"
   ]
  },
  {
   "cell_type": "code",
   "execution_count": 44,
   "metadata": {},
   "outputs": [
    {
     "name": "stdout",
     "output_type": "stream",
     "text": [
      "Welcome to withdrawal section\n"
     ]
    }
   ],
   "source": [
    "Mohit.withdrawal()"
   ]
  },
  {
   "cell_type": "code",
   "execution_count": 46,
   "metadata": {},
   "outputs": [],
   "source": [
    "Mohit.balance=20000"
   ]
  },
  {
   "cell_type": "code",
   "execution_count": 47,
   "metadata": {},
   "outputs": [
    {
     "data": {
      "text/plain": [
       "20000"
      ]
     },
     "execution_count": 47,
     "metadata": {},
     "output_type": "execute_result"
    }
   ],
   "source": [
    "Mohit.balance"
   ]
  },
  {
   "cell_type": "code",
   "execution_count": 48,
   "metadata": {},
   "outputs": [
    {
     "data": {
      "text/plain": [
       "1000"
      ]
     },
     "execution_count": 48,
     "metadata": {},
     "output_type": "execute_result"
    }
   ],
   "source": [
    "krishna.balance"
   ]
  },
  {
   "cell_type": "code",
   "execution_count": 49,
   "metadata": {},
   "outputs": [
    {
     "data": {
      "text/plain": [
       "'0101'"
      ]
     },
     "execution_count": 49,
     "metadata": {},
     "output_type": "execute_result"
    }
   ],
   "source": [
    "krishna.pin"
   ]
  },
  {
   "cell_type": "code",
   "execution_count": 50,
   "metadata": {},
   "outputs": [
    {
     "data": {
      "text/plain": [
       "'0000'"
      ]
     },
     "execution_count": 50,
     "metadata": {},
     "output_type": "execute_result"
    }
   ],
   "source": [
    "Mohit.pin"
   ]
  },
  {
   "cell_type": "code",
   "execution_count": 51,
   "metadata": {},
   "outputs": [],
   "source": [
    "Abdul=ATM()"
   ]
  },
  {
   "cell_type": "code",
   "execution_count": 52,
   "metadata": {},
   "outputs": [
    {
     "data": {
      "text/plain": [
       "'0000'"
      ]
     },
     "execution_count": 52,
     "metadata": {},
     "output_type": "execute_result"
    }
   ],
   "source": [
    "Abdul.pin"
   ]
  },
  {
   "cell_type": "code",
   "execution_count": 53,
   "metadata": {},
   "outputs": [],
   "source": [
    "Abdul.pin=\"1000\""
   ]
  },
  {
   "cell_type": "code",
   "execution_count": 54,
   "metadata": {},
   "outputs": [
    {
     "data": {
      "text/plain": [
       "'1000'"
      ]
     },
     "execution_count": 54,
     "metadata": {},
     "output_type": "execute_result"
    }
   ],
   "source": [
    "Abdul.pin"
   ]
  },
  {
   "cell_type": "code",
   "execution_count": 55,
   "metadata": {},
   "outputs": [
    {
     "data": {
      "text/plain": [
       "'0101'"
      ]
     },
     "execution_count": 55,
     "metadata": {},
     "output_type": "execute_result"
    }
   ],
   "source": [
    "krishna.pin"
   ]
  },
  {
   "cell_type": "code",
   "execution_count": 56,
   "metadata": {},
   "outputs": [
    {
     "data": {
      "text/plain": [
       "'0000'"
      ]
     },
     "execution_count": 56,
     "metadata": {},
     "output_type": "execute_result"
    }
   ],
   "source": [
    "Mohit.pin"
   ]
  },
  {
   "cell_type": "code",
   "execution_count": 8,
   "metadata": {},
   "outputs": [],
   "source": [
    "class ATM:\n",
    "    def __init__(self):\n",
    "        self.__balance=1000\n",
    "        self.__pin=str(\"0000\")\n",
    "    def balance_enquiry(self):\n",
    "        print(\"Welcome to balance enquiry section\")\n",
    "    def withdrawal(self):\n",
    "        print(\"Welcome to withdrawal section\")"
   ]
  },
  {
   "cell_type": "code",
   "execution_count": 9,
   "metadata": {},
   "outputs": [],
   "source": [
    "krishna=ATM()"
   ]
  },
  {
   "cell_type": "code",
   "execution_count": 10,
   "metadata": {},
   "outputs": [
    {
     "name": "stdout",
     "output_type": "stream",
     "text": [
      "Welcome to withdrawal section\n"
     ]
    }
   ],
   "source": [
    "krishna.withdrawal()"
   ]
  },
  {
   "cell_type": "code",
   "execution_count": 11,
   "metadata": {},
   "outputs": [
    {
     "name": "stdout",
     "output_type": "stream",
     "text": [
      "Welcome to balance enquiry section\n"
     ]
    }
   ],
   "source": [
    "krishna.balance_enquiry()"
   ]
  },
  {
   "cell_type": "code",
   "execution_count": 16,
   "metadata": {},
   "outputs": [
    {
     "ename": "AttributeError",
     "evalue": "'ATM' object has no attribute 'pin'",
     "output_type": "error",
     "traceback": [
      "\u001b[1;31m---------------------------------------------------------------------------\u001b[0m",
      "\u001b[1;31mAttributeError\u001b[0m                            Traceback (most recent call last)",
      "Cell \u001b[1;32mIn[16], line 1\u001b[0m\n\u001b[1;32m----> 1\u001b[0m krishna\u001b[39m.\u001b[39;49mpin\n",
      "\u001b[1;31mAttributeError\u001b[0m: 'ATM' object has no attribute 'pin'"
     ]
    }
   ],
   "source": [
    "krishna.pin"
   ]
  },
  {
   "cell_type": "code",
   "execution_count": 19,
   "metadata": {},
   "outputs": [
    {
     "ename": "AttributeError",
     "evalue": "'ATM' object has no attribute '__pin'",
     "output_type": "error",
     "traceback": [
      "\u001b[1;31m---------------------------------------------------------------------------\u001b[0m",
      "\u001b[1;31mAttributeError\u001b[0m                            Traceback (most recent call last)",
      "Cell \u001b[1;32mIn[19], line 1\u001b[0m\n\u001b[1;32m----> 1\u001b[0m krishna\u001b[39m.\u001b[39;49m__pin\n",
      "\u001b[1;31mAttributeError\u001b[0m: 'ATM' object has no attribute '__pin'"
     ]
    }
   ],
   "source": [
    "krishna.__pin"
   ]
  },
  {
   "cell_type": "code",
   "execution_count": 20,
   "metadata": {},
   "outputs": [
    {
     "ename": "AttributeError",
     "evalue": "'ATM' object has no attribute 'balance'",
     "output_type": "error",
     "traceback": [
      "\u001b[1;31m---------------------------------------------------------------------------\u001b[0m",
      "\u001b[1;31mAttributeError\u001b[0m                            Traceback (most recent call last)",
      "Cell \u001b[1;32mIn[20], line 1\u001b[0m\n\u001b[1;32m----> 1\u001b[0m krishna\u001b[39m.\u001b[39;49mbalance\n",
      "\u001b[1;31mAttributeError\u001b[0m: 'ATM' object has no attribute 'balance'"
     ]
    }
   ],
   "source": [
    "krishna.balance"
   ]
  },
  {
   "cell_type": "code",
   "execution_count": 21,
   "metadata": {},
   "outputs": [
    {
     "data": {
      "text/plain": [
       "'0000'"
      ]
     },
     "execution_count": 21,
     "metadata": {},
     "output_type": "execute_result"
    }
   ],
   "source": [
    "krishna._ATM__pin"
   ]
  },
  {
   "cell_type": "code",
   "execution_count": 22,
   "metadata": {},
   "outputs": [
    {
     "data": {
      "text/plain": [
       "1000"
      ]
     },
     "execution_count": 22,
     "metadata": {},
     "output_type": "execute_result"
    }
   ],
   "source": [
    "krishna._ATM__balance"
   ]
  },
  {
   "cell_type": "code",
   "execution_count": 30,
   "metadata": {},
   "outputs": [],
   "source": [
    "class ATM:\n",
    "    def __init__(self):\n",
    "        self.__balance=1000\n",
    "        self.__pin=str(\"0000\")\n",
    "    def __balance_enquiry(self):\n",
    "        print(\"Welcome to balance enquiry section\")\n",
    "    def __withdrawal(self):\n",
    "        print(\"Welcome to withdrawal section\")"
   ]
  },
  {
   "cell_type": "code",
   "execution_count": 31,
   "metadata": {},
   "outputs": [],
   "source": [
    "krishna=ATM()"
   ]
  },
  {
   "cell_type": "code",
   "execution_count": 32,
   "metadata": {},
   "outputs": [
    {
     "name": "stdout",
     "output_type": "stream",
     "text": [
      "Welcome to balance enquiry section\n"
     ]
    }
   ],
   "source": [
    "krishna._ATM__balance_enquiry()"
   ]
  },
  {
   "cell_type": "code",
   "execution_count": 33,
   "metadata": {},
   "outputs": [],
   "source": [
    "# Inheritance"
   ]
  },
  {
   "cell_type": "code",
   "execution_count": 34,
   "metadata": {},
   "outputs": [],
   "source": [
    "# dada--> Papa--> son"
   ]
  },
  {
   "cell_type": "code",
   "execution_count": 38,
   "metadata": {},
   "outputs": [],
   "source": [
    "#single level inheritance\n",
    "class dada:\n",
    "    def __init__(self):\n",
    "        print(\"This is dada's constructor\")\n",
    "    \n",
    "    def house(self):\n",
    "        print(\"Dadaji has a house\")\n",
    "\n",
    "class Papa(dada):\n",
    "    def __init__(self):\n",
    "        print(\"Papa's constructor\")\n",
    "    def car(self):\n",
    "        print(\"papa has a car\")"
   ]
  },
  {
   "cell_type": "code",
   "execution_count": 47,
   "metadata": {},
   "outputs": [],
   "source": [
    "# mutilevel inheritance\n",
    "class dada:\n",
    "    def __init__(self):\n",
    "        print(\"This is dada's constructor\")\n",
    "    \n",
    "    def house(self):\n",
    "        print(\"Dadaji has a house\")\n",
    "\n",
    "class Papa(dada):\n",
    "    def __init__(self):\n",
    "        print(\"Papa's constructor\")\n",
    "    def car(self):\n",
    "        print(\"papa has a car\")\n",
    "\n",
    "class Son(Papa):\n",
    "    def __init__(self):\n",
    "        print(\"son's constructor\")\n",
    "    def toy(self):\n",
    "        print(\"Son has a toy\")"
   ]
  },
  {
   "cell_type": "code",
   "execution_count": 48,
   "metadata": {},
   "outputs": [
    {
     "name": "stdout",
     "output_type": "stream",
     "text": [
      "son's constructor\n"
     ]
    }
   ],
   "source": [
    "krishna=Son()"
   ]
  },
  {
   "cell_type": "code",
   "execution_count": 50,
   "metadata": {},
   "outputs": [
    {
     "name": "stdout",
     "output_type": "stream",
     "text": [
      "papa has a car\n"
     ]
    }
   ],
   "source": [
    "krishna.car()"
   ]
  },
  {
   "cell_type": "code",
   "execution_count": 54,
   "metadata": {},
   "outputs": [],
   "source": [
    "# mutilevel inheritance\n",
    "class dada:\n",
    "    def __init__(self):\n",
    "        print(\"This is dada's constructor\")\n",
    "    \n",
    "    def house(self):\n",
    "        print(\"Dadaji has a house\")\n",
    "\n",
    "class Papa(dada):\n",
    "    def __init__(self):\n",
    "        print(\"Papa's constructor\")\n",
    "    def car(self):\n",
    "        print(\"papa has a car\")\n",
    "\n",
    "class Son(Papa):\n",
    "    def __init__(self):\n",
    "        print(\"son's constructor\")\n",
    "    def toy(self):\n",
    "        print(\"Son has a toy\")"
   ]
  },
  {
   "cell_type": "code",
   "execution_count": 55,
   "metadata": {},
   "outputs": [
    {
     "name": "stdout",
     "output_type": "stream",
     "text": [
      "son's constructor\n"
     ]
    }
   ],
   "source": [
    "krishna=Son()"
   ]
  },
  {
   "cell_type": "code",
   "execution_count": 56,
   "metadata": {},
   "outputs": [
    {
     "name": "stdout",
     "output_type": "stream",
     "text": [
      "Papa's constructor\n"
     ]
    }
   ],
   "source": [
    "hira=Papa()"
   ]
  },
  {
   "cell_type": "code",
   "execution_count": 57,
   "metadata": {},
   "outputs": [],
   "source": [
    "# mutiple inheritance\n",
    "class dada:\n",
    "    def __init__(self):\n",
    "        print(\"This is dada's constructor\")\n",
    "    \n",
    "    def house(self):\n",
    "        print(\"Dadaji has a house\")\n",
    "\n",
    "class Papa:\n",
    "    def __init__(self):\n",
    "        print(\"Papa's constructor\")\n",
    "    def car(self):\n",
    "        print(\"papa has a car\")\n",
    "\n",
    "class Son(Papa,dada):\n",
    "    def __init__(self):\n",
    "        print(\"son's constructor\")\n",
    "    def toy(self):\n",
    "        print(\"Son has a toy\")"
   ]
  },
  {
   "cell_type": "code",
   "execution_count": null,
   "metadata": {},
   "outputs": [],
   "source": []
  },
  {
   "cell_type": "code",
   "execution_count": 63,
   "metadata": {},
   "outputs": [],
   "source": [
    "# mutiple inheritance\n",
    "class dada:\n",
    "    def __init__(self):\n",
    "        print(\"Landlord\")\n",
    "    \n",
    "    def house(self):\n",
    "        print(\"Dadaji has a house\")\n",
    "\n",
    "class Papa(dada):\n",
    "    def __init__(self):\n",
    "        super().__init__()\n",
    "        print(\"Business Man\")\n",
    "    def car(self):\n",
    "        print(\"papa has a car\")\n",
    "\n",
    "class Son(Papa):\n",
    "    def __init__(self):\n",
    "        super().__init__()\n",
    "        print(\"AI engineer\")\n",
    "    def toy(self):\n",
    "        print(\"Son has a toy\")"
   ]
  },
  {
   "cell_type": "code",
   "execution_count": 64,
   "metadata": {},
   "outputs": [
    {
     "name": "stdout",
     "output_type": "stream",
     "text": [
      "Landlord\n",
      "Business Man\n",
      "AI engineer\n"
     ]
    }
   ],
   "source": [
    "krishna=Son()"
   ]
  },
  {
   "cell_type": "code",
   "execution_count": 2,
   "metadata": {},
   "outputs": [],
   "source": [
    "# Polymorphism\n",
    "# > overloading (does not support by python)\n",
    "# > overriding(python support)"
   ]
  },
  {
   "cell_type": "code",
   "execution_count": 7,
   "metadata": {},
   "outputs": [],
   "source": [
    "def area(l,b):\n",
    "    rectangle=l*b\n",
    "    return rectangle\n",
    "def area(r):\n",
    "    circle=3.14*r**2\n",
    "    return circle"
   ]
  },
  {
   "cell_type": "code",
   "execution_count": 8,
   "metadata": {},
   "outputs": [
    {
     "ename": "TypeError",
     "evalue": "area() takes 1 positional argument but 2 were given",
     "output_type": "error",
     "traceback": [
      "\u001b[1;31m---------------------------------------------------------------------------\u001b[0m",
      "\u001b[1;31mTypeError\u001b[0m                                 Traceback (most recent call last)",
      "Cell \u001b[1;32mIn[8], line 1\u001b[0m\n\u001b[1;32m----> 1\u001b[0m area(\u001b[39m200\u001b[39;49m,\u001b[39m100\u001b[39;49m)\n",
      "\u001b[1;31mTypeError\u001b[0m: area() takes 1 positional argument but 2 were given"
     ]
    }
   ],
   "source": [
    "area(200,100)"
   ]
  },
  {
   "cell_type": "code",
   "execution_count": 9,
   "metadata": {},
   "outputs": [
    {
     "data": {
      "text/plain": [
       "153.86"
      ]
     },
     "execution_count": 9,
     "metadata": {},
     "output_type": "execute_result"
    }
   ],
   "source": [
    "area(7)"
   ]
  },
  {
   "cell_type": "code",
   "execution_count": 10,
   "metadata": {},
   "outputs": [],
   "source": [
    "a=10"
   ]
  },
  {
   "cell_type": "code",
   "execution_count": 11,
   "metadata": {},
   "outputs": [],
   "source": [
    "a=20"
   ]
  },
  {
   "cell_type": "code",
   "execution_count": 37,
   "metadata": {},
   "outputs": [],
   "source": [
    "# implementation of overloading using python without over load our methods.\n",
    "\n",
    "class Shape:\n",
    "    def area(self,l,b=0):\n",
    "        if b==0:\n",
    "            r=l\n",
    "            result=3.14*l**2\n",
    "        else:\n",
    "            result=l*b\n",
    "        return result\n",
    "    "
   ]
  },
  {
   "cell_type": "code",
   "execution_count": 38,
   "metadata": {},
   "outputs": [],
   "source": [
    "solid=Shape()"
   ]
  },
  {
   "cell_type": "code",
   "execution_count": 39,
   "metadata": {},
   "outputs": [
    {
     "data": {
      "text/plain": [
       "6"
      ]
     },
     "execution_count": 39,
     "metadata": {},
     "output_type": "execute_result"
    }
   ],
   "source": [
    "solid.area(2,3)"
   ]
  },
  {
   "cell_type": "code",
   "execution_count": 40,
   "metadata": {},
   "outputs": [
    {
     "data": {
      "text/plain": [
       "153.86"
      ]
     },
     "execution_count": 40,
     "metadata": {},
     "output_type": "execute_result"
    }
   ],
   "source": [
    "solid.area(7)"
   ]
  },
  {
   "cell_type": "code",
   "execution_count": 41,
   "metadata": {},
   "outputs": [],
   "source": [
    "class abc:\n",
    "    def intro(self):\n",
    "        print(\"hello world\")\n",
    "    def intro(self):\n",
    "        print(\"this is krishna\")"
   ]
  },
  {
   "cell_type": "code",
   "execution_count": 42,
   "metadata": {},
   "outputs": [],
   "source": [
    "a=abc()"
   ]
  },
  {
   "cell_type": "code",
   "execution_count": 43,
   "metadata": {},
   "outputs": [
    {
     "name": "stdout",
     "output_type": "stream",
     "text": [
      "this is krishna\n"
     ]
    }
   ],
   "source": [
    "a.intro()"
   ]
  },
  {
   "cell_type": "code",
   "execution_count": 45,
   "metadata": {},
   "outputs": [],
   "source": [
    "# Abstraction--> you cannot create object of a class called abstraction.\n",
    "> class must inherite ABC as parent class \n",
    "> at least one method must be a abstract methods.\n"
   ]
  },
  {
   "cell_type": "code",
   "execution_count": 60,
   "metadata": {},
   "outputs": [],
   "source": [
    "from abc import ABC,abstractmethod\n",
    "class ATM(ABC):\n",
    "    @abstractmethod\n",
    "    def withdrawal(self):  #Abhishek\n",
    "        pass\n",
    "    @abstractmethod\n",
    "    def change_pin(self):  #krishna\n",
    "        pass \n",
    "    @abstractmethod\n",
    "    def balance_enquiry(self):#Shariq\n",
    "        pass"
   ]
  },
  {
   "cell_type": "code",
   "execution_count": 63,
   "metadata": {},
   "outputs": [],
   "source": [
    "# Abhiskek\n",
    "class ATM_abhishek(ATM):\n",
    "    def withdrawal(self):\n",
    "        print(\"welcome to withdrawal section\")\n",
    "    def balance_enquiry(self):\n",
    "        pass\n",
    "    def change_pin(self):\n",
    "        pass"
   ]
  },
  {
   "cell_type": "code",
   "execution_count": 64,
   "metadata": {},
   "outputs": [],
   "source": [
    "Abhishek=ATM_abhishek()"
   ]
  },
  {
   "cell_type": "code",
   "execution_count": 59,
   "metadata": {},
   "outputs": [
    {
     "name": "stdout",
     "output_type": "stream",
     "text": [
      "welcome to withdrawal section\n"
     ]
    }
   ],
   "source": [
    "Abhishek.withdrawal()"
   ]
  },
  {
   "cell_type": "code",
   "execution_count": null,
   "metadata": {},
   "outputs": [],
   "source": [
    "2/4"
   ]
  }
 ],
 "metadata": {
  "kernelspec": {
   "display_name": "Python 3",
   "language": "python",
   "name": "python3"
  },
  "language_info": {
   "codemirror_mode": {
    "name": "ipython",
    "version": 3
   },
   "file_extension": ".py",
   "mimetype": "text/x-python",
   "name": "python",
   "nbconvert_exporter": "python",
   "pygments_lexer": "ipython3",
   "version": "3.11.3"
  },
  "orig_nbformat": 4
 },
 "nbformat": 4,
 "nbformat_minor": 2
}
