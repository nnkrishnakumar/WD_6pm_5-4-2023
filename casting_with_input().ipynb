{
 "cells": [
  {
   "cell_type": "code",
   "execution_count": 1,
   "metadata": {},
   "outputs": [],
   "source": [
    "# casting with input() "
   ]
  },
  {
   "cell_type": "code",
   "execution_count": 4,
   "metadata": {},
   "outputs": [],
   "source": [
    "a=input(\"enter your name :\")"
   ]
  },
  {
   "cell_type": "code",
   "execution_count": 7,
   "metadata": {},
   "outputs": [
    {
     "name": "stdout",
     "output_type": "stream",
     "text": [
      "krishna 1675664451696 <class 'str'>\n"
     ]
    }
   ],
   "source": [
    "print(a,id(a),type(a))"
   ]
  },
  {
   "cell_type": "code",
   "execution_count": 8,
   "metadata": {},
   "outputs": [
    {
     "name": "stdout",
     "output_type": "stream",
     "text": [
      "1 140709337926784 <class 'str'>\n"
     ]
    }
   ],
   "source": [
    "a=input(\"enter your name :\")\n",
    "print(a,id(a),type(a))"
   ]
  },
  {
   "cell_type": "code",
   "execution_count": 9,
   "metadata": {},
   "outputs": [
    {
     "data": {
      "text/plain": [
       "'1'"
      ]
     },
     "execution_count": 9,
     "metadata": {},
     "output_type": "execute_result"
    }
   ],
   "source": [
    "a"
   ]
  },
  {
   "cell_type": "code",
   "execution_count": 10,
   "metadata": {},
   "outputs": [
    {
     "name": "stdout",
     "output_type": "stream",
     "text": [
      "1.0 1675664633712 <class 'str'>\n"
     ]
    }
   ],
   "source": [
    "a=input(\"enter your name :\")\n",
    "print(a,id(a),type(a))"
   ]
  },
  {
   "cell_type": "code",
   "execution_count": 13,
   "metadata": {},
   "outputs": [
    {
     "name": "stdout",
     "output_type": "stream",
     "text": [
      "10 1675664710320 <class 'str'>\n",
      "20 1675664706864 <class 'str'>\n",
      "1020\n"
     ]
    }
   ],
   "source": [
    "num1=input(\"enter your 1st number :\")\n",
    "print(num1,id(num1),type(num1))\n",
    "\n",
    "num2=input(\"enter your 2nd number :\")\n",
    "print(num2,id(num2),type(num2))\n",
    "\n",
    "\n",
    "print(num1+num2)"
   ]
  },
  {
   "cell_type": "code",
   "execution_count": 14,
   "metadata": {},
   "outputs": [
    {
     "name": "stdout",
     "output_type": "stream",
     "text": [
      "10 140709337883720 <class 'int'>\n",
      "20 140709337884040 <class 'int'>\n",
      "30\n"
     ]
    }
   ],
   "source": [
    "num1=input(\"enter your 1st number :\")\n",
    "a=int(num1)\n",
    "print(a,id(a),type(a))\n",
    "\n",
    "num2=input(\"enter your 2nd number :\")\n",
    "b=int(num2)\n",
    "print(b,id(b),type(b))\n",
    "\n",
    "\n",
    "print(a+b)"
   ]
  },
  {
   "cell_type": "code",
   "execution_count": 17,
   "metadata": {},
   "outputs": [
    {
     "ename": "ValueError",
     "evalue": "invalid literal for int() with base 10: '10.0'",
     "output_type": "error",
     "traceback": [
      "\u001b[1;31m---------------------------------------------------------------------------\u001b[0m",
      "\u001b[1;31mValueError\u001b[0m                                Traceback (most recent call last)",
      "Cell \u001b[1;32mIn[17], line 1\u001b[0m\n\u001b[1;32m----> 1\u001b[0m a\u001b[39m=\u001b[39m\u001b[39mint\u001b[39;49m(\u001b[39minput\u001b[39;49m(\u001b[39m\"\u001b[39;49m\u001b[39menter your 1st number :\u001b[39;49m\u001b[39m\"\u001b[39;49m))\n\u001b[0;32m      2\u001b[0m \u001b[39mprint\u001b[39m(a,\u001b[39mid\u001b[39m(a),\u001b[39mtype\u001b[39m(a))\n\u001b[0;32m      4\u001b[0m b\u001b[39m=\u001b[39m\u001b[39mint\u001b[39m(\u001b[39minput\u001b[39m(\u001b[39m\"\u001b[39m\u001b[39menter your 2nd number :\u001b[39m\u001b[39m\"\u001b[39m))\n",
      "\u001b[1;31mValueError\u001b[0m: invalid literal for int() with base 10: '10.0'"
     ]
    }
   ],
   "source": [
    "a=int(input(\"enter your 1st number :\"))\n",
    "print(a,id(a),type(a))\n",
    "\n",
    "b=int(input(\"enter your 2nd number :\"))\n",
    "print(b,id(b),type(b))\n",
    "\n",
    "\n",
    "print(a+b)"
   ]
  },
  {
   "cell_type": "code",
   "execution_count": 18,
   "metadata": {},
   "outputs": [
    {
     "name": "stdout",
     "output_type": "stream",
     "text": [
      "10 140709337883720 <class 'int'>\n",
      "20 140709337884040 <class 'int'>\n",
      "30\n"
     ]
    }
   ],
   "source": [
    "a=int(float(input(\"enter your 1st number :\")))\n",
    "print(a,id(a),type(a))\n",
    "\n",
    "b=int(float(input(\"enter your 2nd number :\")))\n",
    "print(b,id(b),type(b))\n",
    "\n",
    "\n",
    "print(a+b)"
   ]
  },
  {
   "cell_type": "code",
   "execution_count": 27,
   "metadata": {},
   "outputs": [
    {
     "name": "stdout",
     "output_type": "stream",
     "text": [
      "10.3 1675666511216 <class 'float'>\n",
      "23 140709337884136 <class 'int'>\n",
      "33.3\n"
     ]
    }
   ],
   "source": [
    "#eval()\n",
    "a=eval(input(\"enter your 1st number :\"))\n",
    "print(a,id(a),type(a))\n",
    "\n",
    "b=eval(input(\"enter your 2nd number :\"))\n",
    "print(b,id(b),type(b))\n",
    "\n",
    "\n",
    "print(a+b)"
   ]
  },
  {
   "cell_type": "code",
   "execution_count": 30,
   "metadata": {},
   "outputs": [
    {
     "name": "stdout",
     "output_type": "stream",
     "text": [
      "10.25dsfdfsd\n",
      "10.25\n",
      "bfjhdgjfsd3546.gfjhgfjhg56\n",
      "3546.56\n",
      "3556.81\n"
     ]
    }
   ],
   "source": [
    "#eval()\n",
    "a=input(\"enter your 1st number :\") #'10a'\n",
    "print(a)\n",
    "num1=eval(re.sub(\"[A-z ]\",\"\",a)) #'10'\n",
    "print(num1)\n",
    "\n",
    "b=input(\"enter your 2nd number :\") #'10.2df'\n",
    "print(b)\n",
    "num2=eval(re.sub(\"[A-z ]\",\"\",b)) # '10.2'\n",
    "print(num2)\n",
    "\n",
    "print(num1+num2)"
   ]
  },
  {
   "cell_type": "code",
   "execution_count": 23,
   "metadata": {},
   "outputs": [],
   "source": [
    "import re"
   ]
  },
  {
   "cell_type": "code",
   "execution_count": 26,
   "metadata": {},
   "outputs": [
    {
     "data": {
      "text/plain": [
       "'32.43423'"
      ]
     },
     "execution_count": 26,
     "metadata": {},
     "output_type": "execute_result"
    }
   ],
   "source": [
    "re.sub(\"[A-z ]\",\"\",\"this is 32.43423krishna\")"
   ]
  },
  {
   "cell_type": "code",
   "execution_count": 31,
   "metadata": {},
   "outputs": [
    {
     "name": "stdout",
     "output_type": "stream",
     "text": [
      "336.60809642665\n"
     ]
    }
   ],
   "source": [
    "\n",
    "num1=eval(re.sub(\"[A-z ]\",\"\",input(\"enter your 1st number :\"))) \n",
    "\n",
    "num2=eval(re.sub(\"[A-z ]\",\"\",input(\"enter your 2nd number :\"))) \n",
    "\n",
    "print(num1+num2)"
   ]
  },
  {
   "cell_type": "code",
   "execution_count": 32,
   "metadata": {},
   "outputs": [
    {
     "name": "stdout",
     "output_type": "stream",
     "text": [
      "1010.876563\n"
     ]
    }
   ],
   "source": [
    "print(eval(re.sub(\"[A-z ]\",\"\",input(\"enter your 1st number :\"))) +eval(re.sub(\"[A-z ]\",\"\",input(\"enter your 2nd number :\"))))"
   ]
  },
  {
   "cell_type": "code",
   "execution_count": 33,
   "metadata": {},
   "outputs": [
    {
     "name": "stdout",
     "output_type": "stream",
     "text": [
      "10dsdfgsdfg.dfasdfs5dfasdfasdf\n",
      "10.5\n",
      "10ddfasdf.554fdfdafs\n",
      "10.554\n",
      "21.054000000000002\n"
     ]
    }
   ],
   "source": [
    "#finding error\n",
    "\n",
    "#eval()\n",
    "a=input(\"enter your 1st number :\") #'10a'\n",
    "print(a)\n",
    "num1=eval(re.sub(\"[A-z ]\",\"\",a)) #'10'\n",
    "print(num1)\n",
    "\n",
    "b=input(\"enter your 2nd number :\") #'10.2df'\n",
    "print(b)\n",
    "num2=eval(re.sub(\"[A-z ]\",\"\",b)) # '10.2'\n",
    "print(num2)\n",
    "\n",
    "print(num1+num2)"
   ]
  },
  {
   "cell_type": "code",
   "execution_count": 34,
   "metadata": {},
   "outputs": [
    {
     "name": "stdout",
     "output_type": "stream",
     "text": [
      "10dfasdf.dfasdf.dfasdf778fd\n"
     ]
    },
    {
     "ename": "SyntaxError",
     "evalue": "invalid syntax (<string>, line 1)",
     "output_type": "error",
     "traceback": [
      "Traceback \u001b[1;36m(most recent call last)\u001b[0m:\n",
      "\u001b[0m  File \u001b[0;32m~\\AppData\\Roaming\\Python\\Python311\\site-packages\\IPython\\core\\interactiveshell.py:3442\u001b[0m in \u001b[0;35mrun_code\u001b[0m\n    exec(code_obj, self.user_global_ns, self.user_ns)\u001b[0m\n",
      "\u001b[1;36m  Cell \u001b[1;32mIn[34], line 6\u001b[1;36m\n\u001b[1;33m    num1=eval(re.sub(\"[A-z ]\",\"\",a)) #'10'\u001b[1;36m\n",
      "\u001b[1;36m  File \u001b[1;32m<string>:1\u001b[1;36m\u001b[0m\n\u001b[1;33m    10..778\u001b[0m\n\u001b[1;37m       ^\u001b[0m\n\u001b[1;31mSyntaxError\u001b[0m\u001b[1;31m:\u001b[0m invalid syntax\n"
     ]
    }
   ],
   "source": [
    "#finding error\n",
    "\n",
    "#eval()\n",
    "a=input(\"enter your 1st number :\") #'10a'\n",
    "print(a)\n",
    "num1=eval(re.sub(\"[A-z ]\",\"\",a)) #'10'\n",
    "print(num1)\n",
    "\n",
    "b=input(\"enter your 2nd number :\") #'10.2df'\n",
    "print(b)\n",
    "num2=eval(re.sub(\"[A-z ]\",\"\",b)) # '10.2'\n",
    "print(num2)\n",
    "\n",
    "print(num1+num2)"
   ]
  },
  {
   "cell_type": "code",
   "execution_count": 36,
   "metadata": {},
   "outputs": [],
   "source": []
  },
  {
   "cell_type": "code",
   "execution_count": null,
   "metadata": {},
   "outputs": [],
   "source": []
  }
 ],
 "metadata": {
  "kernelspec": {
   "display_name": "Python 3",
   "language": "python",
   "name": "python3"
  },
  "language_info": {
   "codemirror_mode": {
    "name": "ipython",
    "version": 3
   },
   "file_extension": ".py",
   "mimetype": "text/x-python",
   "name": "python",
   "nbconvert_exporter": "python",
   "pygments_lexer": "ipython3",
   "version": "3.11.3"
  },
  "orig_nbformat": 4
 },
 "nbformat": 4,
 "nbformat_minor": 2
}
